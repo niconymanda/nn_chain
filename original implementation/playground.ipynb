{
 "cells": [
  {
   "cell_type": "code",
   "execution_count": 1,
   "metadata": {},
   "outputs": [
    {
     "data": {
      "text/plain": [
       "(None, <pyximport._pyximport3.PyxImportMetaFinder at 0x754e446d5fc0>)"
      ]
     },
     "execution_count": 1,
     "metadata": {},
     "output_type": "execute_result"
    }
   ],
   "source": [
    "from knn_chain import knn_chain, get_top_k\n",
    "from py_knn_chain import py_knn_chain\n",
    "from nn_chain_algorithm_standard import standard_nn_chain\n",
    "\n",
    "# from scipy.cluster.hierarchy import ward, dendrogram, linkage\n",
    "from scipy.spatial.distance import pdist\n",
    "\n",
    "import numpy as np\n",
    "import time\n",
    "\n",
    "import pstats, cProfile\n",
    "import pyximport\n",
    "pyximport.install()"
   ]
  },
  {
   "cell_type": "markdown",
   "metadata": {},
   "source": [
    "## Data"
   ]
  },
  {
   "cell_type": "code",
   "execution_count": 3,
   "metadata": {},
   "outputs": [],
   "source": [
    "def generate_multivariate_gaussian_data(num_samples, num_features, num_distributions):\n",
    "    \"\"\"\n",
    "    Generate a massive multidimensional, multivariate Gaussian dataset.\n",
    "\n",
    "    Parameters:\n",
    "    - num_samples: Total number of samples to generate.\n",
    "    - num_features: Number of features (dimensions) for each sample.\n",
    "    - num_distributions: Number of different Gaussian distributions.\n",
    "\n",
    "    Returns:\n",
    "    - data: Generated dataset of shape (num_samples, num_features).\n",
    "    \"\"\"\n",
    "    data = []\n",
    "    samples_per_distribution = num_samples // num_distributions\n",
    "\n",
    "    for i in range(num_distributions):\n",
    "        mean = np.random.rand(num_features) * 100\n",
    "        cov = np.random.rand(num_features, num_features)\n",
    "        cov = np.dot(cov, cov.transpose())\n",
    "\n",
    "        distribution_data = np.random.multivariate_normal(mean, cov, samples_per_distribution)\n",
    "        data.append(distribution_data)\n",
    "\n",
    "    data = np.vstack(data)\n",
    "    return data"
   ]
  },
  {
   "cell_type": "code",
   "execution_count": 2,
   "metadata": {},
   "outputs": [],
   "source": [
    "# num_samples = 1000\n",
    "# num_features = 10\n",
    "# num_distributions = 4\n",
    "\n",
    "# X = list(generate_multivariate_gaussian_data(num_samples, num_features, num_distributions))\n",
    "\n",
    "# np.savetxt(\"X\", X)\n",
    "X = list(np.loadtxt(\"X\"))"
   ]
  },
  {
   "cell_type": "markdown",
   "metadata": {},
   "source": [
    "## Profiling"
   ]
  },
  {
   "cell_type": "markdown",
   "metadata": {},
   "source": [
    "## 1. Python Algorithms"
   ]
  },
  {
   "cell_type": "code",
   "execution_count": 3,
   "metadata": {},
   "outputs": [],
   "source": [
    "for i in range(10):\n",
    "    cProfile.runctx(\"py_knn_chain(X, k = 1)\", globals(), locals(), \"Profile.prof\")"
   ]
  },
  {
   "cell_type": "code",
   "execution_count": 9,
   "metadata": {},
   "outputs": [
    {
     "name": "stdout",
     "output_type": "stream",
     "text": [
      "avg = 4.497350163\n",
      "Thu Jun 20 12:22:49 2024    Profile.prof\n",
      "\n",
      "         1114254 function calls in 4.423 seconds\n",
      "\n",
      "   Ordered by: internal time\n",
      "\n",
      "   ncalls  tottime  percall  cumtime  percall filename:lineno(function)\n",
      "  1066146    3.719    0.000    3.719    0.000 py_knn_chain.py:7(ward)\n",
      "     2106    0.419    0.000    4.129    0.002 py_knn_chain.py:21(<listcomp>)\n",
      "     4212    0.085    0.000    0.085    0.000 {built-in method numpy.array}\n",
      "     2106    0.079    0.000    0.079    0.000 py_knn_chain.py:20(<listcomp>)\n",
      "     2106    0.052    0.000    0.052    0.000 {method 'argsort' of 'numpy.ndarray' objects}\n",
      "        1    0.034    0.034    4.422    4.422 py_knn_chain.py:26(py_knn_chain)\n",
      "     2106    0.020    0.000    4.370    0.002 py_knn_chain.py:18(get_top_k)\n",
      "     2659    0.003    0.000    0.060    0.000 fromnumeric.py:53(_wrapfunc)\n",
      "     2106    0.002    0.000    0.057    0.000 fromnumeric.py:1025(argsort)\n",
      "      553    0.002    0.000    0.004    0.000 fromnumeric.py:40(_wrapit)\n",
      "      553    0.001    0.000    0.005    0.000 fromnumeric.py:1236(argmin)\n",
      "     8314    0.001    0.000    0.001    0.000 {built-in method builtins.len}\n",
      "     3212    0.001    0.000    0.001    0.000 {built-in method builtins.getattr}\n",
      "      553    0.001    0.000    0.006    0.000 py_knn_chain.py:85(<listcomp>)\n",
      "     6987    0.001    0.000    0.001    0.000 {method 'append' of 'list' objects}\n",
      "      553    0.001    0.000    0.001    0.000 {method 'argmin' of 'numpy.ndarray' objects}\n",
      "      553    0.001    0.000    0.001    0.000 {built-in method numpy.asarray}\n",
      "        1    0.000    0.000    4.423    4.423 <string>:1(<module>)\n",
      "     1996    0.000    0.000    0.000    0.000 {method 'remove' of 'set' objects}\n",
      "     2106    0.000    0.000    0.000    0.000 fromnumeric.py:1021(_argsort_dispatcher)\n",
      "      335    0.000    0.000    0.000    0.000 {built-in method builtins.next}\n",
      "     4015    0.000    0.000    0.000    0.000 {method 'add' of 'set' objects}\n",
      "        1    0.000    0.000    0.000    0.000 py_knn_chain.py:35(<dictcomp>)\n",
      "      553    0.000    0.000    0.000    0.000 fromnumeric.py:1232(_argmin_dispatcher)\n",
      "        1    0.000    0.000    4.423    4.423 {built-in method builtins.exec}\n",
      "      335    0.000    0.000    0.000    0.000 {built-in method builtins.iter}\n",
      "        8    0.000    0.000    0.000    0.000 ipkernel.py:775(_clean_thread_parent_frames)\n",
      "        1    0.000    0.000    0.000    0.000 py_knn_chain.py:34(<dictcomp>)\n",
      "        1    0.000    0.000    0.000    0.000 py_knn_chain.py:30(<listcomp>)\n",
      "        4    0.000    0.000    0.000    0.000 threading.py:1478(enumerate)\n",
      "        1    0.000    0.000    0.000    0.000 py_knn_chain.py:33(<setcomp>)\n",
      "        1    0.000    0.000    0.000    0.000 py_knn_chain.py:31(<listcomp>)\n",
      "       28    0.000    0.000    0.000    0.000 threading.py:1145(ident)\n",
      "        4    0.000    0.000    0.000    0.000 ipkernel.py:790(<setcomp>)\n",
      "        4    0.000    0.000    0.000    0.000 {method '__exit__' of '_thread.RLock' objects}\n",
      "       16    0.000    0.000    0.000    0.000 {method 'keys' of 'dict' objects}\n",
      "        8    0.000    0.000    0.000    0.000 {built-in method builtins.isinstance}\n",
      "        8    0.000    0.000    0.000    0.000 {method 'values' of 'dict' objects}\n",
      "        1    0.000    0.000    0.000    0.000 {method 'disable' of '_lsprof.Profiler' objects}\n",
      "\n",
      "\n"
     ]
    },
    {
     "data": {
      "text/plain": [
       "<pstats.Stats at 0x754e446d5d20>"
      ]
     },
     "execution_count": 9,
     "metadata": {},
     "output_type": "execute_result"
    }
   ],
   "source": [
    "avg = 0.0\n",
    "\n",
    "for i in range(5):\n",
    "    cProfile.runctx(\"py_knn_chain(X, k = 3)\", globals(), locals(), \"Profile.prof\")\n",
    "    s = pstats.Stats(\"Profile.prof\")\n",
    "    avg += s.strip_dirs().sort_stats(\"time\").total_tt\n",
    "    \n",
    "print(f\"avg = {avg/5}\")\n",
    "s.strip_dirs().sort_stats(\"time\").print_stats()"
   ]
  },
  {
   "cell_type": "code",
   "execution_count": 9,
   "metadata": {},
   "outputs": [],
   "source": [
    "y = pdist(X)"
   ]
  },
  {
   "cell_type": "code",
   "execution_count": 10,
   "metadata": {},
   "outputs": [
    {
     "name": "stdout",
     "output_type": "stream",
     "text": [
      "avg = 31.896431360499996\n",
      "Thu Jun 20 12:01:39 2024    Profile.prof\n",
      "\n",
      "         3447241 function calls in 31.334 seconds\n",
      "\n",
      "   Ordered by: internal time\n",
      "\n",
      "   ncalls  tottime  percall  cumtime  percall filename:lineno(function)\n",
      "  2945723   19.240    0.000   19.240    0.000 nn_chain_algorithm_standard.py:49(condensed_index)\n",
      "        1   10.370   10.370   31.334   31.334 nn_chain_algorithm_standard.py:61(standard_nn_chain)\n",
      "   498501    1.716    0.000    1.716    0.000 nn_chain_algorithm_standard.py:45(new_dist)\n",
      "     1998    0.005    0.000    0.005    0.000 nn_chain_algorithm_standard.py:21(find)\n",
      "        1    0.002    0.002    0.008    0.008 nn_chain_algorithm_standard.py:32(label)\n",
      "      999    0.001    0.000    0.001    0.000 nn_chain_algorithm_standard.py:13(merge)\n",
      "        1    0.000    0.000    0.000    0.000 {method 'argsort' of 'numpy.ndarray' objects}\n",
      "        1    0.000    0.000   31.334   31.334 {built-in method builtins.exec}\n",
      "        2    0.000    0.000    0.000    0.000 numeric.py:136(ones)\n",
      "        1    0.000    0.000    0.000    0.000 fromnumeric.py:53(_wrapfunc)\n",
      "        1    0.000    0.000    0.000    0.000 nn_chain_algorithm_standard.py:8(__init__)\n",
      "        3    0.000    0.000    0.000    0.000 {built-in method numpy.empty}\n",
      "        1    0.000    0.000    0.000    0.000 {built-in method numpy.arange}\n",
      "        1    0.000    0.000    0.000    0.000 fromnumeric.py:1025(argsort)\n",
      "        1    0.000    0.000   31.334   31.334 <string>:1(<module>)\n",
      "        1    0.000    0.000    0.000    0.000 {built-in method builtins.getattr}\n",
      "        2    0.000    0.000    0.000    0.000 multiarray.py:1080(copyto)\n",
      "        1    0.000    0.000    0.000    0.000 {method 'disable' of '_lsprof.Profiler' objects}\n",
      "        1    0.000    0.000    0.000    0.000 {built-in method builtins.len}\n",
      "        1    0.000    0.000    0.000    0.000 fromnumeric.py:1021(_argsort_dispatcher)\n",
      "\n",
      "\n"
     ]
    },
    {
     "data": {
      "text/plain": [
       "<pstats.Stats at 0x793b7df45360>"
      ]
     },
     "execution_count": 10,
     "metadata": {},
     "output_type": "execute_result"
    }
   ],
   "source": [
    "avg = 0.0\n",
    "\n",
    "for i in range(10):\n",
    "    cProfile.runctx(\"standard_nn_chain(y, len(X))\", globals(), locals(), \"Profile.prof\")\n",
    "    s = pstats.Stats(\"Profile.prof\")\n",
    "    avg += s.strip_dirs().sort_stats(\"time\").total_tt\n",
    "    \n",
    "print(f\"avg = {avg/10}\")\n",
    "s.strip_dirs().sort_stats(\"time\").print_stats()"
   ]
  },
  {
   "cell_type": "markdown",
   "metadata": {},
   "source": [
    "## 2. Cython Algorithms"
   ]
  },
  {
   "cell_type": "code",
   "execution_count": 17,
   "metadata": {},
   "outputs": [
    {
     "name": "stdout",
     "output_type": "stream",
     "text": [
      "shape of X: (10000, 100)\n"
     ]
    }
   ],
   "source": [
    "# np.savetxt(\"largeX\", X)\n",
    "X = list(np.loadtxt(\"largeX\"))\n",
    "print(f\"shape of X: {len(X), len(X[0])}\")"
   ]
  },
  {
   "cell_type": "markdown",
   "metadata": {},
   "source": [
    "### - get_top_k()"
   ]
  },
  {
   "cell_type": "code",
   "execution_count": 18,
   "metadata": {},
   "outputs": [],
   "source": [
    "for i in range(50):\n",
    "    cProfile.runctx(\"get_top_k(i = 0, size = np.ones(shape=len(X)), pos = X, active=set([i for i in range(len(X))]), k = 3)\", globals(), locals(), \"Profile.prof\")"
   ]
  },
  {
   "cell_type": "code",
   "execution_count": 19,
   "metadata": {},
   "outputs": [
    {
     "name": "stdout",
     "output_type": "stream",
     "text": [
      "avg = 0.009262675739999999\n",
      "Tue Jun 11 15:09:42 2024    Profile.prof\n",
      "\n",
      "         10019 function calls (10018 primitive calls) in 0.009 seconds\n",
      "\n",
      "   Ordered by: internal time\n",
      "\n",
      "   ncalls  tottime  percall  cumtime  percall filename:lineno(function)\n",
      "     9999    0.004    0.000    0.004    0.000 knn_chain.pyx:9(ward)\n",
      "      2/1    0.003    0.002    0.008    0.008 knn_chain.pyx:23(get_top_k)\n",
      "        1    0.001    0.001    0.001    0.001 {method 'argsort' of 'numpy.ndarray' objects}\n",
      "        1    0.001    0.001    0.001    0.001 <string>:1(<listcomp>)\n",
      "        1    0.000    0.000    0.009    0.009 <string>:1(<module>)\n",
      "        1    0.000    0.000    0.009    0.009 {built-in method builtins.exec}\n",
      "        2    0.000    0.000    0.001    0.000 {built-in method numpy.core._multiarray_umath.implement_array_function}\n",
      "        1    0.000    0.000    0.000    0.000 <__array_function__ internals>:177(copyto)\n",
      "        1    0.000    0.000    0.001    0.001 fromnumeric.py:51(_wrapfunc)\n",
      "        1    0.000    0.000    0.000    0.000 numeric.py:150(ones)\n",
      "        1    0.000    0.000    0.000    0.000 {built-in method numpy.empty}\n",
      "        1    0.000    0.000    0.001    0.001 <__array_function__ internals>:177(argsort)\n",
      "        1    0.000    0.000    0.001    0.001 fromnumeric.py:1038(argsort)\n",
      "        1    0.000    0.000    0.000    0.000 {built-in method builtins.getattr}\n",
      "        1    0.000    0.000    0.000    0.000 fromnumeric.py:1034(_argsort_dispatcher)\n",
      "        1    0.000    0.000    0.000    0.000 multiarray.py:1079(copyto)\n",
      "        2    0.000    0.000    0.000    0.000 {built-in method builtins.len}\n",
      "        1    0.000    0.000    0.000    0.000 {method 'disable' of '_lsprof.Profiler' objects}\n",
      "\n",
      "\n"
     ]
    },
    {
     "data": {
      "text/plain": [
       "<pstats.Stats at 0x7fc7f0677580>"
      ]
     },
     "execution_count": 19,
     "metadata": {},
     "output_type": "execute_result"
    }
   ],
   "source": [
    "avg = 0.0\n",
    "\n",
    "for i in range(50):\n",
    "    cProfile.runctx(\"get_top_k(i = 0, size = np.ones(shape=len(X)), pos = X, active=set([i for i in range(len(X))]), k = 3)\", globals(), locals(), \"Profile.prof\")\n",
    "    s = pstats.Stats(\"Profile.prof\")\n",
    "    avg += s.strip_dirs().sort_stats(\"time\").total_tt\n",
    "    \n",
    "print(f\"avg = {avg/50}\")\n",
    "s.strip_dirs().sort_stats(\"time\").print_stats()\n",
    "#0.009262675739999999"
   ]
  },
  {
   "cell_type": "markdown",
   "metadata": {},
   "source": [
    "### - knn_chain()"
   ]
  },
  {
   "cell_type": "code",
   "execution_count": 9,
   "metadata": {},
   "outputs": [
    {
     "name": "stdout",
     "output_type": "stream",
     "text": [
      "shape of X: (1000, 10)\n"
     ]
    }
   ],
   "source": [
    "# np.savetxt(\"X\", X)\n",
    "X = list(np.loadtxt(\"X\"))\n",
    "print(f\"shape of X: {len(X), len(X[0])}\")"
   ]
  },
  {
   "cell_type": "code",
   "execution_count": 15,
   "metadata": {},
   "outputs": [],
   "source": [
    "for i in range(10):\n",
    "    cProfile.runctx(\"knn_chain(X, k = 3)\", globals(), locals(), \"Profile.prof\")"
   ]
  },
  {
   "cell_type": "code",
   "execution_count": 16,
   "metadata": {},
   "outputs": [
    {
     "name": "stdout",
     "output_type": "stream",
     "text": [
      "avg = 0.9169820677\n",
      "Tue Jun 11 15:08:35 2024    Profile.prof\n",
      "\n",
      "         1099421 function calls (1099420 primitive calls) in 0.915 seconds\n",
      "\n",
      "   Ordered by: internal time\n",
      "\n",
      "   ncalls  tottime  percall  cumtime  percall filename:lineno(function)\n",
      "  1076618    0.574    0.000    0.574    0.000 knn_chain.pyx:9(ward)\n",
      "     2131    0.223    0.000    0.850    0.000 knn_chain.pyx:23(get_top_k)\n",
      "      2/1    0.059    0.030    0.915    0.915 knn_chain.pyx:41(knn_chain)\n",
      "     2131    0.048    0.000    0.048    0.000 {method 'argsort' of 'numpy.ndarray' objects}\n",
      "     2698    0.002    0.000    0.053    0.000 fromnumeric.py:51(_wrapfunc)\n",
      "     2131    0.001    0.000    0.054    0.000 <__array_function__ internals>:177(argsort)\n",
      "      567    0.001    0.000    0.003    0.000 fromnumeric.py:38(_wrapit)\n",
      "     2131    0.001    0.000    0.051    0.000 fromnumeric.py:1038(argsort)\n",
      "     2698    0.001    0.000    0.056    0.000 {built-in method numpy.core._multiarray_umath.implement_array_function}\n",
      "      567    0.001    0.000    0.001    0.000 {built-in method numpy.asarray}\n",
      "      567    0.001    0.000    0.001    0.000 {method 'argmin' of 'numpy.ndarray' objects}\n",
      "      567    0.001    0.000    0.004    0.000 fromnumeric.py:1249(argmin)\n",
      "      567    0.000    0.000    0.005    0.000 <__array_function__ internals>:177(argmin)\n",
      "     3265    0.000    0.000    0.000    0.000 {built-in method builtins.getattr}\n",
      "     2131    0.000    0.000    0.000    0.000 fromnumeric.py:1034(_argsort_dispatcher)\n",
      "      567    0.000    0.000    0.000    0.000 fromnumeric.py:1245(_argmin_dispatcher)\n",
      "        1    0.000    0.000    0.915    0.915 {built-in method builtins.exec}\n",
      "        8    0.000    0.000    0.000    0.000 ipkernel.py:770(_clean_thread_parent_frames)\n",
      "        1    0.000    0.000    0.915    0.915 <string>:1(<module>)\n",
      "        4    0.000    0.000    0.000    0.000 threading.py:1478(enumerate)\n",
      "       28    0.000    0.000    0.000    0.000 threading.py:1145(ident)\n",
      "        4    0.000    0.000    0.000    0.000 ipkernel.py:785(<setcomp>)\n",
      "        8    0.000    0.000    0.000    0.000 {method 'values' of 'dict' objects}\n",
      "        1    0.000    0.000    0.000    0.000 {method 'disable' of '_lsprof.Profiler' objects}\n",
      "       16    0.000    0.000    0.000    0.000 {method 'keys' of 'dict' objects}\n",
      "        8    0.000    0.000    0.000    0.000 {built-in method builtins.isinstance}\n",
      "        4    0.000    0.000    0.000    0.000 {method '__exit__' of '_thread.RLock' objects}\n",
      "\n",
      "\n"
     ]
    },
    {
     "data": {
      "text/plain": [
       "<pstats.Stats at 0x7fc7f06b9ed0>"
      ]
     },
     "execution_count": 16,
     "metadata": {},
     "output_type": "execute_result"
    }
   ],
   "source": [
    "avg = 0.0\n",
    "\n",
    "for i in range(10):\n",
    "    cProfile.runctx(\"knn_chain(X, k = 3)\", globals(), locals(), \"Profile.prof\")\n",
    "    s = pstats.Stats(\"Profile.prof\")\n",
    "    avg += s.strip_dirs().sort_stats(\"time\").total_tt\n",
    "    \n",
    "print(f\"avg = {avg/10}\")\n",
    "s.strip_dirs().sort_stats(\"time\").print_stats()\n",
    "#0.9169820677"
   ]
  },
  {
   "cell_type": "markdown",
   "metadata": {},
   "source": [
    "## Comparison"
   ]
  },
  {
   "cell_type": "code",
   "execution_count": 12,
   "metadata": {},
   "outputs": [
    {
     "name": "stdout",
     "output_type": "stream",
     "text": [
      "CPU Execution time: 0.395937966 seconds\n"
     ]
    }
   ],
   "source": [
    "# WIP\n",
    "# get the start time\n",
    "st = time.process_time()\n",
    "########## FIX \n",
    "A = knn_chain(X, k = 3)\n",
    "##########\n",
    "# get the end time\n",
    "et = time.process_time()\n",
    "# get execution time\n",
    "res = et - st\n",
    "print('CPU Execution time:', res, 'seconds')"
   ]
  },
  {
   "cell_type": "code",
   "execution_count": 14,
   "metadata": {},
   "outputs": [
    {
     "name": "stdout",
     "output_type": "stream",
     "text": [
      "<class 'numpy.ndarray'>\n",
      "CPU Execution time: 6.008719696 seconds\n"
     ]
    }
   ],
   "source": [
    "# Python Implementation\n",
    "# get the start time\n",
    "st = time.process_time()\n",
    "########## FIX \n",
    "B = py_knn_chain(X, k = 3)\n",
    "##########\n",
    "# get the end time\n",
    "et = time.process_time()\n",
    "# get execution time\n",
    "res = et - st\n",
    "print('CPU Execution time:', res, 'seconds')"
   ]
  },
  {
   "cell_type": "code",
   "execution_count": 13,
   "metadata": {},
   "outputs": [
    {
     "name": "stdout",
     "output_type": "stream",
     "text": [
      "CPU Execution time: 0.018500914000000535 seconds\n"
     ]
    }
   ],
   "source": [
    "# SciPy implementation\n",
    "# get the start time\n",
    "st = time.process_time()\n",
    "########## FIX \n",
    "y = pdist(X) \n",
    "Z = ward(y)\n",
    "##########\n",
    "# get the end time\n",
    "et = time.process_time()\n",
    "# get execution time\n",
    "res = et - st\n",
    "print('CPU Execution time:', res, 'seconds')\n",
    "# dendrogram(Z);"
   ]
  },
  {
   "cell_type": "markdown",
   "metadata": {},
   "source": [
    "## Dendrogram comparison"
   ]
  },
  {
   "cell_type": "code",
   "execution_count": 18,
   "metadata": {},
   "outputs": [
    {
     "data": {
      "image/png": "[encoded data removed]",
      "text/plain": [
       "<Figure size 640x480 with 1 Axes>"
      ]
     },
     "metadata": {},
     "output_type": "display_data"
    }
   ],
   "source": [
    "dendrogram(A);"
   ]
  },
  {
   "cell_type": "code",
   "execution_count": 17,
   "metadata": {},
   "outputs": [
    {
     "data": {
      "image/png": "[encoded data removed]",
      "text/plain": [
       "<Figure size 640x480 with 1 Axes>"
      ]
     },
     "metadata": {},
     "output_type": "display_data"
    }
   ],
   "source": [
    "dendrogram(Z);"
   ]
  },
  {
   "cell_type": "code",
   "execution_count": null,
   "metadata": {},
   "outputs": [],
   "source": []
  }
 ],
 "metadata": {
  "kernelspec": {
   "display_name": "Python 3",
   "language": "python",
   "name": "python3"
  },
  "language_info": {
   "codemirror_mode": {
    "name": "ipython",
    "version": 3
   },
   "file_extension": ".py",
   "mimetype": "text/x-python",
   "name": "python",
   "nbconvert_exporter": "python",
   "pygments_lexer": "ipython3",
   "version": "3.10.13"
  }
 },
 "nbformat": 4,
 "nbformat_minor": 2
}
