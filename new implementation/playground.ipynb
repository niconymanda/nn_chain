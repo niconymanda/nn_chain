{
 "cells": [
  {
   "cell_type": "markdown",
   "metadata": {},
   "source": [
    "## New Algorithm calculating Ward from the distance values"
   ]
  },
  {
   "cell_type": "code",
   "execution_count": 3,
   "metadata": {},
   "outputs": [
    {
     "data": {
      "text/plain": [
       "(None, <pyximport._pyximport3.PyxImportMetaFinder at 0x7db7509fa1a0>)"
      ]
     },
     "execution_count": 3,
     "metadata": {},
     "output_type": "execute_result"
    }
   ],
   "source": [
    "from scipy.cluster.hierarchy import dendrogram\n",
    "# from scipy.spatial.distance import pdist\n",
    "# from nn_chain_algorithm_standard import standard_nn_chain\n",
    "\n",
    "# from knn_chain import knn_pdist, knn_chain\n",
    "\n",
    "import numpy as np\n",
    "\n",
    "import pstats, cProfile\n",
    "import pyximport\n",
    "pyximport.install()"
   ]
  },
  {
   "cell_type": "code",
   "execution_count": 1,
   "metadata": {},
   "outputs": [],
   "source": [
    "from knn_chain import knn_pdist "
   ]
  },
  {
   "cell_type": "code",
   "execution_count": 4,
   "metadata": {},
   "outputs": [],
   "source": [
    "X = np.random.randint(0, 10, size=(1000, 3))"
   ]
  },
  {
   "cell_type": "markdown",
   "metadata": {},
   "source": [
    "### New knn-chain algorithm"
   ]
  },
  {
   "cell_type": "code",
   "execution_count": 5,
   "metadata": {},
   "outputs": [],
   "source": [
    "distance_cache = knn_pdist(X)\n",
    "# 4s"
   ]
  },
  {
   "cell_type": "code",
   "execution_count": 30,
   "metadata": {},
   "outputs": [],
   "source": [
    "A = knn_chain(distance_cache = distance_cache, n = len(X), k = 3)"
   ]
  },
  {
   "cell_type": "markdown",
   "metadata": {},
   "source": [
    "### Standard Python implementation of SciPy's nn-chain algorithm"
   ]
  },
  {
   "cell_type": "code",
   "execution_count": 29,
   "metadata": {},
   "outputs": [],
   "source": [
    "# Note: using Cython implementation --> check whether Cython implementation of knn_pdist can compete \n",
    "y = pdist(X)"
   ]
  },
  {
   "cell_type": "code",
   "execution_count": 31,
   "metadata": {},
   "outputs": [],
   "source": [
    "B = standard_nn_chain(y, len(X))"
   ]
  },
  {
   "cell_type": "markdown",
   "metadata": {},
   "source": [
    "### Timing"
   ]
  },
  {
   "cell_type": "markdown",
   "metadata": {},
   "source": [
    "1. knn-chain"
   ]
  },
  {
   "cell_type": "code",
   "execution_count": 23,
   "metadata": {},
   "outputs": [],
   "source": [
    "for i in range(10):\n",
    "    cProfile.runctx(\"knn_chain(distance_cache = distance_cache, n = len(X), k = 3)\", globals(), locals(), \"Profile.prof\")"
   ]
  },
  {
   "cell_type": "code",
   "execution_count": 24,
   "metadata": {},
   "outputs": [
    {
     "name": "stdout",
     "output_type": "stream",
     "text": [
      "Thu Jun 20 09:03:57 2024    Profile.prof\n",
      "\n",
      "         10520703 function calls in 3.869 seconds\n",
      "\n",
      "   Ordered by: internal time\n",
      "\n",
      "   ncalls  tottime  percall  cumtime  percall filename:lineno(function)\n",
      "  2034838    0.651    0.000    1.443    0.000 knn_chain.py:8(_make_key)\n",
      "     2055    0.550    0.000    2.396    0.001 knn_chain.py:101(get_top_k)\n",
      "  1000117    0.489    0.000    1.173    0.000 knn_chain.py:22(exists)\n",
      "  1034721    0.460    0.000    1.541    0.000 knn_chain.py:18(get_distance)\n",
      "  2034838    0.420    0.000    0.420    0.000 {built-in method builtins.min}\n",
      "  2034838    0.372    0.000    0.372    0.000 {built-in method builtins.max}\n",
      "  1034721    0.323    0.000    0.323    0.000 {method 'get' of 'dict' objects}\n",
      "     2995    0.255    0.000    1.428    0.000 knn_chain.py:146(update_distance_cache)\n",
      "  1039802    0.074    0.000    0.074    0.000 {built-in method builtins.len}\n",
      "    27002    0.054    0.000    0.110    0.000 fromnumeric.py:40(_wrapit)\n",
      "    27002    0.031    0.000    0.145    0.000 fromnumeric.py:53(_wrapfunc)\n",
      "    20579    0.029    0.000    0.029    0.000 knn_chain.py:125(<listcomp>)\n",
      "    26742    0.029    0.000    0.029    0.000 {method 'argsort' of 'numpy.ndarray' objects}\n",
      "        1    0.024    0.024    3.869    3.869 knn_chain.py:165(knn_chain)\n",
      "    20579    0.023    0.000    0.023    0.000 knn_chain.py:127(<listcomp>)\n",
      "    27002    0.022    0.000    0.022    0.000 {built-in method numpy.asarray}\n",
      "    26742    0.017    0.000    0.160    0.000 fromnumeric.py:1025(argsort)\n",
      "     6163    0.010    0.000    0.010    0.000 knn_chain.py:114(<listcomp>)\n",
      "    54004    0.008    0.000    0.008    0.000 {built-in method builtins.getattr}\n",
      "      998    0.007    0.000    0.011    0.000 function_base.py:5563(append)\n",
      "     6163    0.007    0.000    0.007    0.000 knn_chain.py:117(<listcomp>)\n",
      "    26742    0.004    0.000    0.004    0.000 fromnumeric.py:1021(_argsort_dispatcher)\n",
      "    17317    0.002    0.000    0.002    0.000 {method 'append' of 'list' objects}\n",
      "      998    0.001    0.000    0.003    0.000 fromnumeric.py:1768(ravel)\n",
      "      679    0.001    0.000    0.001    0.000 {built-in method builtins.next}\n",
      "     1996    0.001    0.000    0.001    0.000 {built-in method numpy.asanyarray}\n",
      "        1    0.001    0.001    3.869    3.869 <string>:1(<module>)\n",
      "      998    0.001    0.000    0.001    0.000 {method 'ravel' of 'numpy.ndarray' objects}\n",
      "      260    0.001    0.000    0.002    0.000 fromnumeric.py:1236(argmin)\n",
      "     1008    0.000    0.000    0.000    0.000 {built-in method builtins.isinstance}\n",
      "      260    0.000    0.000    0.000    0.000 {method 'argmin' of 'numpy.ndarray' objects}\n",
      "      260    0.000    0.000    0.001    0.000 knn_chain.py:221(<listcomp>)\n",
      "     1996    0.000    0.000    0.000    0.000 {method 'remove' of 'set' objects}\n",
      "     2255    0.000    0.000    0.000    0.000 {method 'add' of 'set' objects}\n",
      "      998    0.000    0.000    0.000    0.000 multiarray.py:153(concatenate)\n",
      "      998    0.000    0.000    0.000    0.000 function_base.py:5559(_append_dispatcher)\n",
      "      998    0.000    0.000    0.000    0.000 fromnumeric.py:1764(_ravel_dispatcher)\n",
      "        1    0.000    0.000    0.000    0.000 knn_chain.py:175(<dictcomp>)\n",
      "      679    0.000    0.000    0.000    0.000 {built-in method builtins.iter}\n",
      "        1    0.000    0.000    3.869    3.869 {built-in method builtins.exec}\n",
      "       10    0.000    0.000    0.000    0.000 ipkernel.py:775(_clean_thread_parent_frames)\n",
      "      260    0.000    0.000    0.000    0.000 fromnumeric.py:1232(_argmin_dispatcher)\n",
      "        1    0.000    0.000    0.000    0.000 knn_chain.py:174(<dictcomp>)\n",
      "        5    0.000    0.000    0.000    0.000 threading.py:1478(enumerate)\n",
      "        1    0.000    0.000    0.000    0.000 knn_chain.py:172(<setcomp>)\n",
      "       35    0.000    0.000    0.000    0.000 threading.py:1145(ident)\n",
      "        5    0.000    0.000    0.000    0.000 ipkernel.py:790(<setcomp>)\n",
      "        1    0.000    0.000    0.000    0.000 numeric.py:136(ones)\n",
      "        1    0.000    0.000    0.000    0.000 {built-in method numpy.empty}\n",
      "       20    0.000    0.000    0.000    0.000 {method 'keys' of 'dict' objects}\n",
      "        5    0.000    0.000    0.000    0.000 {method '__exit__' of '_thread.RLock' objects}\n",
      "       10    0.000    0.000    0.000    0.000 {method 'values' of 'dict' objects}\n",
      "        1    0.000    0.000    0.000    0.000 {method 'disable' of '_lsprof.Profiler' objects}\n",
      "        1    0.000    0.000    0.000    0.000 multiarray.py:1080(copyto)\n",
      "\n",
      "\n"
     ]
    },
    {
     "data": {
      "text/plain": [
       "<pstats.Stats at 0x70078099aa40>"
      ]
     },
     "execution_count": 24,
     "metadata": {},
     "output_type": "execute_result"
    }
   ],
   "source": [
    "s = pstats.Stats(\"Profile.prof\")\n",
    "s.strip_dirs().sort_stats(\"time\").print_stats()"
   ]
  },
  {
   "cell_type": "markdown",
   "metadata": {},
   "source": [
    "2. nn-chain"
   ]
  },
  {
   "cell_type": "code",
   "execution_count": 26,
   "metadata": {},
   "outputs": [],
   "source": [
    "for i in range(10):\n",
    "    cProfile.runctx(\"standard_nn_chain(y, len(X))\", globals(), locals(), \"Profile.prof\")"
   ]
  },
  {
   "cell_type": "code",
   "execution_count": 27,
   "metadata": {},
   "outputs": [
    {
     "name": "stdout",
     "output_type": "stream",
     "text": [
      "Thu Jun 20 09:09:29 2024    Profile.prof\n",
      "\n",
      "         3254942 function calls in 29.176 seconds\n",
      "\n",
      "   Ordered by: internal time\n",
      "\n",
      "   ncalls  tottime  percall  cumtime  percall filename:lineno(function)\n",
      "  2753424   17.839    0.000   17.839    0.000 nn_chain_algorithm_standard.py:49(condensed_index)\n",
      "        1    9.601    9.601   29.176   29.176 nn_chain_algorithm_standard.py:61(standard_nn_chain)\n",
      "   498501    1.728    0.000    1.728    0.000 nn_chain_algorithm_standard.py:45(new_dist)\n",
      "     1998    0.005    0.000    0.005    0.000 nn_chain_algorithm_standard.py:21(find)\n",
      "        1    0.002    0.002    0.008    0.008 nn_chain_algorithm_standard.py:32(label)\n",
      "      999    0.001    0.000    0.001    0.000 nn_chain_algorithm_standard.py:13(merge)\n",
      "        1    0.000    0.000   29.176   29.176 {built-in method builtins.exec}\n",
      "        1    0.000    0.000    0.000    0.000 {method 'argsort' of 'numpy.ndarray' objects}\n",
      "        2    0.000    0.000    0.000    0.000 numeric.py:136(ones)\n",
      "        1    0.000    0.000    0.000    0.000 fromnumeric.py:53(_wrapfunc)\n",
      "        1    0.000    0.000    0.000    0.000 nn_chain_algorithm_standard.py:8(__init__)\n",
      "        1    0.000    0.000   29.176   29.176 <string>:1(<module>)\n",
      "        3    0.000    0.000    0.000    0.000 {built-in method numpy.empty}\n",
      "        1    0.000    0.000    0.000    0.000 fromnumeric.py:1025(argsort)\n",
      "        1    0.000    0.000    0.000    0.000 {built-in method numpy.arange}\n",
      "        1    0.000    0.000    0.000    0.000 {built-in method builtins.getattr}\n",
      "        2    0.000    0.000    0.000    0.000 multiarray.py:1080(copyto)\n",
      "        1    0.000    0.000    0.000    0.000 {method 'disable' of '_lsprof.Profiler' objects}\n",
      "        1    0.000    0.000    0.000    0.000 {built-in method builtins.len}\n",
      "        1    0.000    0.000    0.000    0.000 fromnumeric.py:1021(_argsort_dispatcher)\n",
      "\n",
      "\n"
     ]
    },
    {
     "data": {
      "text/plain": [
       "<pstats.Stats at 0x70078099aef0>"
      ]
     },
     "execution_count": 27,
     "metadata": {},
     "output_type": "execute_result"
    }
   ],
   "source": [
    "t = pstats.Stats(\"Profile.prof\")\n",
    "t.strip_dirs().sort_stats(\"time\").print_stats()"
   ]
  },
  {
   "cell_type": "markdown",
   "metadata": {},
   "source": [
    "--> ensure correctness \n",
    "\n",
    "--> begin implementation in cython ?"
   ]
  },
  {
   "cell_type": "markdown",
   "metadata": {},
   "source": [
    "### Dendrograms"
   ]
  },
  {
   "cell_type": "code",
   "execution_count": 8,
   "metadata": {},
   "outputs": [
    {
     "data": {
      "image/png": "[encoded data removed]",
      "text/plain": [
       "<Figure size 640x480 with 1 Axes>"
      ]
     },
     "metadata": {},
     "output_type": "display_data"
    }
   ],
   "source": [
    "dendrogram(A);"
   ]
  },
  {
   "cell_type": "code",
   "execution_count": 9,
   "metadata": {},
   "outputs": [
    {
     "data": {
      "image/png": "[encoded data removed]",
      "text/plain": [
       "<Figure size 640x480 with 1 Axes>"
      ]
     },
     "metadata": {},
     "output_type": "display_data"
    }
   ],
   "source": [
    "dendrogram(B);"
   ]
  },
  {
   "cell_type": "code",
   "execution_count": 1,
   "metadata": {},
   "outputs": [
    {
     "name": "stdout",
     "output_type": "stream",
     "text": [
      "0\n",
      "True\n"
     ]
    }
   ],
   "source": [
    "import numpy as np\n",
    "x = [3,5]\n",
    "print(np.argmin(x))\n",
    "print(not np.argmin(x))"
   ]
  },
  {
   "cell_type": "code",
   "execution_count": 4,
   "metadata": {},
   "outputs": [
    {
     "data": {
      "text/plain": [
       "0"
      ]
     },
     "execution_count": 4,
     "metadata": {},
     "output_type": "execute_result"
    }
   ],
   "source": [
    "2%2"
   ]
  },
  {
   "cell_type": "code",
   "execution_count": null,
   "metadata": {},
   "outputs": [],
   "source": []
  }
 ],
 "metadata": {
  "kernelspec": {
   "display_name": "Python 3",
   "language": "python",
   "name": "python3"
  },
  "language_info": {
   "codemirror_mode": {
    "name": "ipython",
    "version": 3
   },
   "file_extension": ".py",
   "mimetype": "text/x-python",
   "name": "python",
   "nbconvert_exporter": "python",
   "pygments_lexer": "ipython3",
   "version": "3.10.13"
  }
 },
 "nbformat": 4,
 "nbformat_minor": 2
}
